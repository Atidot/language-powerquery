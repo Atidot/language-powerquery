{
 "cells": [
  {
   "cell_type": "markdown",
   "metadata": {},
   "source": [
    "### 1. General Imports and Language pragmas"
   ]
  },
  {
   "cell_type": "code",
   "execution_count": 1,
   "metadata": {},
   "outputs": [],
   "source": [
    "{-# LANGUAGE PackageImports #-}\n",
    "{-# LANGUAGE OverloadedStrings #-}\n",
    "import           \"lens\"        Control.Lens\n",
    "import           \"lens-aeson\"  Data.Aeson.Lens   \n",
    "import           \"uniplate\"    Data.Generics.Uniplate.Data (universeBi)\n",
    "import qualified \"bytestring\"  Data.ByteString.Lazy.Char8 as B (readFile, take)"
   ]
  },
  {
   "cell_type": "markdown",
   "metadata": {},
   "source": [
    "### 2. Import PowerQuery AST (Abstract Syntax Tree) & parsing libraries"
   ]
  },
  {
   "cell_type": "code",
   "execution_count": 2,
   "metadata": {},
   "outputs": [],
   "source": [
    "import           \"language-powerquery-ast\" Language.PowerQuery.AST\n",
    "import           \"language-powerquery\"     Language.PowerQuery\n",
    "import           \"pbix\"                    Codec.Pbix.Types"
   ]
  },
  {
   "cell_type": "markdown",
   "metadata": {},
   "source": [
    "### 3. Read a __.pbix__ file to a __ByteString__ in memory\n",
    "It's a __PK__ zip archive file"
   ]
  },
  {
   "cell_type": "code",
   "execution_count": 3,
   "metadata": {},
   "outputs": [
    {
     "data": {
      "text/html": [
       "<style>/* Styles used for the Hoogle display in the pager */\n",
       ".hoogle-doc {\n",
       "display: block;\n",
       "padding-bottom: 1.3em;\n",
       "padding-left: 0.4em;\n",
       "}\n",
       ".hoogle-code {\n",
       "display: block;\n",
       "font-family: monospace;\n",
       "white-space: pre;\n",
       "}\n",
       ".hoogle-text {\n",
       "display: block;\n",
       "}\n",
       ".hoogle-name {\n",
       "color: green;\n",
       "font-weight: bold;\n",
       "}\n",
       ".hoogle-head {\n",
       "font-weight: bold;\n",
       "}\n",
       ".hoogle-sub {\n",
       "display: block;\n",
       "margin-left: 0.4em;\n",
       "}\n",
       ".hoogle-package {\n",
       "font-weight: bold;\n",
       "font-style: italic;\n",
       "}\n",
       ".hoogle-module {\n",
       "font-weight: bold;\n",
       "}\n",
       ".hoogle-class {\n",
       "font-weight: bold;\n",
       "}\n",
       ".get-type {\n",
       "color: green;\n",
       "font-weight: bold;\n",
       "font-family: monospace;\n",
       "display: block;\n",
       "white-space: pre-wrap;\n",
       "}\n",
       ".show-type {\n",
       "color: green;\n",
       "font-weight: bold;\n",
       "font-family: monospace;\n",
       "margin-left: 1em;\n",
       "}\n",
       ".mono {\n",
       "font-family: monospace;\n",
       "display: block;\n",
       "}\n",
       ".err-msg {\n",
       "color: red;\n",
       "font-style: italic;\n",
       "font-family: monospace;\n",
       "white-space: pre;\n",
       "display: block;\n",
       "}\n",
       "#unshowable {\n",
       "color: red;\n",
       "font-weight: bold;\n",
       "}\n",
       ".err-msg.in.collapse {\n",
       "padding-top: 0.7em;\n",
       "}\n",
       ".highlight-code {\n",
       "white-space: pre;\n",
       "font-family: monospace;\n",
       "}\n",
       ".suggestion-warning { \n",
       "font-weight: bold;\n",
       "color: rgb(200, 130, 0);\n",
       "}\n",
       ".suggestion-error { \n",
       "font-weight: bold;\n",
       "color: red;\n",
       "}\n",
       ".suggestion-name {\n",
       "font-weight: bold;\n",
       "}\n",
       "</style><span class='get-type'>bs :: ByteString</span>"
      ],
      "text/plain": [
       "bs :: ByteString"
      ]
     },
     "metadata": {},
     "output_type": "display_data"
    },
    {
     "data": {
      "text/plain": [
       "\"PK\\ETX\\EOT\\DC4\\NUL\\NUL\\NUL\\b\\NUL\\140\\SUB\\179N<\\215s\\201\\n\\NUL\\NUL\\NUL\\b\\NUL\\NUL\\NUL\\a\\NUL\\FS\\NUL\""
      ]
     },
     "metadata": {},
     "output_type": "display_data"
    }
   ],
   "source": [
    "bs <- B.readFile \"iris.pbix\"\n",
    ":t bs\n",
    "\n",
    "print . B.take 30 $ bs"
   ]
  },
  {
   "cell_type": "markdown",
   "metadata": {},
   "source": [
    "### 4. Extract the __Section1.m__ formula from the __.pbix__\n",
    "using __lens__es"
   ]
  },
  {
   "cell_type": "code",
   "execution_count": 4,
   "metadata": {},
   "outputs": [
    {
     "data": {
      "text/html": [
       "<style>/* Styles used for the Hoogle display in the pager */\n",
       ".hoogle-doc {\n",
       "display: block;\n",
       "padding-bottom: 1.3em;\n",
       "padding-left: 0.4em;\n",
       "}\n",
       ".hoogle-code {\n",
       "display: block;\n",
       "font-family: monospace;\n",
       "white-space: pre;\n",
       "}\n",
       ".hoogle-text {\n",
       "display: block;\n",
       "}\n",
       ".hoogle-name {\n",
       "color: green;\n",
       "font-weight: bold;\n",
       "}\n",
       ".hoogle-head {\n",
       "font-weight: bold;\n",
       "}\n",
       ".hoogle-sub {\n",
       "display: block;\n",
       "margin-left: 0.4em;\n",
       "}\n",
       ".hoogle-package {\n",
       "font-weight: bold;\n",
       "font-style: italic;\n",
       "}\n",
       ".hoogle-module {\n",
       "font-weight: bold;\n",
       "}\n",
       ".hoogle-class {\n",
       "font-weight: bold;\n",
       "}\n",
       ".get-type {\n",
       "color: green;\n",
       "font-weight: bold;\n",
       "font-family: monospace;\n",
       "display: block;\n",
       "white-space: pre-wrap;\n",
       "}\n",
       ".show-type {\n",
       "color: green;\n",
       "font-weight: bold;\n",
       "font-family: monospace;\n",
       "margin-left: 1em;\n",
       "}\n",
       ".mono {\n",
       "font-family: monospace;\n",
       "display: block;\n",
       "}\n",
       ".err-msg {\n",
       "color: red;\n",
       "font-style: italic;\n",
       "font-family: monospace;\n",
       "white-space: pre;\n",
       "display: block;\n",
       "}\n",
       "#unshowable {\n",
       "color: red;\n",
       "font-weight: bold;\n",
       "}\n",
       ".err-msg.in.collapse {\n",
       "padding-top: 0.7em;\n",
       "}\n",
       ".highlight-code {\n",
       "white-space: pre;\n",
       "font-family: monospace;\n",
       "}\n",
       ".suggestion-warning { \n",
       "font-weight: bold;\n",
       "color: rgb(200, 130, 0);\n",
       "}\n",
       ".suggestion-error { \n",
       "font-weight: bold;\n",
       "color: red;\n",
       "}\n",
       ".suggestion-name {\n",
       "font-weight: bold;\n",
       "}\n",
       "</style><span class='get-type'>bs ^. pbix . dataMashup . formula \"Section1.m\" :: Formula</span>"
      ],
      "text/plain": [
       "bs ^. pbix . dataMashup . formula \"Section1.m\" :: Formula"
      ]
     },
     "metadata": {},
     "output_type": "display_data"
    },
    {
     "data": {
      "text/plain": [
       "Formula \"section Section1;\\r\\n\\r\\nshared iris = let\\r\\n    Source = Csv.Document(File.Contents(\\\"\\\\\\\\VBOXSVR\\\\Shared\\\\PowerBI\\\\iris.csv\\\"),[Delimiter=\\\",\\\", Columns=5, Encoding=1252, QuoteStyle=QuoteStyle.None]),\\r\\n    #\\\"Promoted Headers\\\" = Table.PromoteHeaders(Source, [PromoteAllScalars=true]),\\r\\n    #\\\"Changed Type\\\" = Table.TransformColumnTypes(#\\\"Promoted Headers\\\",{{\\\"sepal_length\\\", type number}, {\\\"sepal_width\\\", type number}, {\\\"petal_length\\\", type number}, {\\\"petal_width\\\", type number}, {\\\"species\\\", type text}})\\r\\nin\\r\\n    #\\\"Changed Type\\\";\""
      ]
     },
     "metadata": {},
     "output_type": "display_data"
    }
   ],
   "source": [
    ":t bs ^. pbix . dataMashup . formula \"Section1.m\"\n",
    "\n",
    "bs ^. pbix . dataMashup . formula \"Section1.m\""
   ]
  },
  {
   "cell_type": "markdown",
   "metadata": {},
   "source": [
    "### 5. Parse __Section1.m__ to an AST data structure\n",
    "using __lens__es"
   ]
  },
  {
   "cell_type": "code",
   "execution_count": 5,
   "metadata": {},
   "outputs": [
    {
     "data": {
      "text/html": [
       "<style>/* Styles used for the Hoogle display in the pager */\n",
       ".hoogle-doc {\n",
       "display: block;\n",
       "padding-bottom: 1.3em;\n",
       "padding-left: 0.4em;\n",
       "}\n",
       ".hoogle-code {\n",
       "display: block;\n",
       "font-family: monospace;\n",
       "white-space: pre;\n",
       "}\n",
       ".hoogle-text {\n",
       "display: block;\n",
       "}\n",
       ".hoogle-name {\n",
       "color: green;\n",
       "font-weight: bold;\n",
       "}\n",
       ".hoogle-head {\n",
       "font-weight: bold;\n",
       "}\n",
       ".hoogle-sub {\n",
       "display: block;\n",
       "margin-left: 0.4em;\n",
       "}\n",
       ".hoogle-package {\n",
       "font-weight: bold;\n",
       "font-style: italic;\n",
       "}\n",
       ".hoogle-module {\n",
       "font-weight: bold;\n",
       "}\n",
       ".hoogle-class {\n",
       "font-weight: bold;\n",
       "}\n",
       ".get-type {\n",
       "color: green;\n",
       "font-weight: bold;\n",
       "font-family: monospace;\n",
       "display: block;\n",
       "white-space: pre-wrap;\n",
       "}\n",
       ".show-type {\n",
       "color: green;\n",
       "font-weight: bold;\n",
       "font-family: monospace;\n",
       "margin-left: 1em;\n",
       "}\n",
       ".mono {\n",
       "font-family: monospace;\n",
       "display: block;\n",
       "}\n",
       ".err-msg {\n",
       "color: red;\n",
       "font-style: italic;\n",
       "font-family: monospace;\n",
       "white-space: pre;\n",
       "display: block;\n",
       "}\n",
       "#unshowable {\n",
       "color: red;\n",
       "font-weight: bold;\n",
       "}\n",
       ".err-msg.in.collapse {\n",
       "padding-top: 0.7em;\n",
       "}\n",
       ".highlight-code {\n",
       "white-space: pre;\n",
       "font-family: monospace;\n",
       "}\n",
       ".suggestion-warning { \n",
       "font-weight: bold;\n",
       "color: rgb(200, 130, 0);\n",
       "}\n",
       ".suggestion-error { \n",
       "font-weight: bold;\n",
       "color: red;\n",
       "}\n",
       ".suggestion-name {\n",
       "font-weight: bold;\n",
       "}\n",
       "</style><span class='get-type'>bs ^. pbix . dataMashup . formula \"Section1.m\" . document :: Document Annotation</span>"
      ],
      "text/plain": [
       "bs ^. pbix . dataMashup . formula \"Section1.m\" . document :: Document Annotation"
      ]
     },
     "metadata": {},
     "output_type": "display_data"
    },
    {
     "data": {
      "text/plain": [
       "SectionDocument (Section {_section_attributes = Nothing, _section_name = Just (RegularI \"Section1\"), _section_members = Just [SectionMember {_sectionMember_attributes = Nothing, _sectionMember_shared = True, _sectionMember_name = RegularI \"iris\", _sectionMember_expression = LetE (LetExpression {_letExpression_variableList = [Variable {_variable_name = RegularI \"Source\", _variable_expression = LogicalE (And_OE (Is_LAE (As_IE (EqualityAE (RelationalEE (AdditiveRE (MultiplicativeAE (MetadataME (MetadataExpression {_metadataExpression_first = UnaryType (Primary_TE (InvokePE (InvokeExpression {_invokeExpression_primary = FieldAccessPE (ImplicitTargetProjection {_implicitTargetProjection_identifier = RegularI \"Csv.Document\", _implicitTargetProjection_annotation = Just Annotation}), _invokeExpression_argumentList = Just [LogicalE (And_OE (Is_LAE (As_IE (EqualityAE (RelationalEE (AdditiveRE (MultiplicativeAE (MetadataME (MetadataExpression {_metadataExpression_first = UnaryType (Primary_TE (InvokePE (InvokeExpression {_invokeExpression_primary = FieldAccessPE (ImplicitTargetProjection {_implicitTargetProjection_identifier = RegularI \"File.Contents\", _implicitTargetProjection_annotation = Just Annotation}), _invokeExpression_argumentList = Just [LogicalE (And_OE (Is_LAE (As_IE (EqualityAE (RelationalEE (AdditiveRE (MultiplicativeAE (MetadataME (MetadataExpression {_metadataExpression_first = UnaryType (Primary_TE (LiteralPE (LiteralExpression {_literalExpression_literal = StringL \"\\\"\\\\\\\\VBOXSVR\\\\Shared\\\\PowerBI\\\\iris.csv\\\"\", _literalExpression_annotation = Just Annotation}))), _metadataExpression_second = Nothing, _metadataExpression_annotation = Just Annotation})))))))))], _invokeExpression_annotation = Just Annotation}))), _metadataExpression_second = Nothing, _metadataExpression_annotation = Just Annotation}))))))))),LogicalE (And_OE (Is_LAE (As_IE (EqualityAE (RelationalEE (AdditiveRE (MultiplicativeAE (MetadataME (MetadataExpression {_metadataExpression_first = UnaryType (Primary_TE (RecordPE (RecordExpression {_recordExpression_fieldList = [Field {_field_name = RegularI \"Delimiter\", _field_expression = LogicalE (And_OE (Is_LAE (As_IE (EqualityAE (RelationalEE (AdditiveRE (MultiplicativeAE (MetadataME (MetadataExpression {_metadataExpression_first = UnaryType (Primary_TE (LiteralPE (LiteralExpression {_literalExpression_literal = StringL \"\\\",\\\"\", _literalExpression_annotation = Just Annotation}))), _metadataExpression_second = Nothing, _metadataExpression_annotation = Just Annotation}))))))))), _field_annotation = Just Annotation},Field {_field_name = RegularI \"Columns\", _field_expression = LogicalE (And_OE (Is_LAE (As_IE (EqualityAE (RelationalEE (AdditiveRE (MultiplicativeAE (MetadataME (MetadataExpression {_metadataExpression_first = UnaryType (Primary_TE (LiteralPE (LiteralExpression {_literalExpression_literal = NumberL (IntegerL 5), _literalExpression_annotation = Just Annotation}))), _metadataExpression_second = Nothing, _metadataExpression_annotation = Just Annotation}))))))))), _field_annotation = Just Annotation},Field {_field_name = RegularI \"Encoding\", _field_expression = LogicalE (And_OE (Is_LAE (As_IE (EqualityAE (RelationalEE (AdditiveRE (MultiplicativeAE (MetadataME (MetadataExpression {_metadataExpression_first = UnaryType (Primary_TE (LiteralPE (LiteralExpression {_literalExpression_literal = NumberL (IntegerL 1252), _literalExpression_annotation = Just Annotation}))), _metadataExpression_second = Nothing, _metadataExpression_annotation = Just Annotation}))))))))), _field_annotation = Just Annotation},Field {_field_name = RegularI \"QuoteStyle\", _field_expression = LogicalE (And_OE (Is_LAE (As_IE (EqualityAE (RelationalEE (AdditiveRE (MultiplicativeAE (MetadataME (MetadataExpression {_metadataExpression_first = UnaryType (Primary_TE (FieldAccessPE (ImplicitTargetProjection {_implicitTargetProjection_identifier = RegularI \"QuoteStyle.None\", _implicitTargetProjection_annotation = Just Annotation}))), _metadataExpression_second = Nothing, _metadataExpression_annotation = Just Annotation}))))))))), _field_annotation = Just Annotation}], _recordExpression_annotation = Just Annotation}))), _metadataExpression_second = Nothing, _metadataExpression_annotation = Just Annotation})))))))))], _invokeExpression_annotation = Just Annotation}))), _metadataExpression_second = Nothing, _metadataExpression_annotation = Just Annotation}))))))))), _variable_annotation = Just Annotation},Variable {_variable_name = QuotedI \"#\\\"Promoted Headers\\\"\", _variable_expression = LogicalE (And_OE (Is_LAE (As_IE (EqualityAE (RelationalEE (AdditiveRE (MultiplicativeAE (MetadataME (MetadataExpression {_metadataExpression_first = UnaryType (Primary_TE (InvokePE (InvokeExpression {_invokeExpression_primary = FieldAccessPE (ImplicitTargetProjection {_implicitTargetProjection_identifier = RegularI \"Table.PromoteHeaders\", _implicitTargetProjection_annotation = Just Annotation}), _invokeExpression_argumentList = Just [LogicalE (And_OE (Is_LAE (As_IE (EqualityAE (RelationalEE (AdditiveRE (MultiplicativeAE (MetadataME (MetadataExpression {_metadataExpression_first = UnaryType (Primary_TE (FieldAccessPE (ImplicitTargetProjection {_implicitTargetProjection_identifier = RegularI \"Source\", _implicitTargetProjection_annotation = Just Annotation}))), _metadataExpression_second = Nothing, _metadataExpression_annotation = Just Annotation}))))))))),LogicalE (And_OE (Is_LAE (As_IE (EqualityAE (RelationalEE (AdditiveRE (MultiplicativeAE (MetadataME (MetadataExpression {_metadataExpression_first = UnaryType (Primary_TE (RecordPE (RecordExpression {_recordExpression_fieldList = [Field {_field_name = RegularI \"PromoteAllScalars\", _field_expression = LogicalE (And_OE (Is_LAE (As_IE (EqualityAE (RelationalEE (AdditiveRE (MultiplicativeAE (MetadataME (MetadataExpression {_metadataExpression_first = UnaryType (Primary_TE (LiteralPE (LiteralExpression {_literalExpression_literal = LogicalL True, _literalExpression_annotation = Just Annotation}))), _metadataExpression_second = Nothing, _metadataExpression_annotation = Just Annotation}))))))))), _field_annotation = Just Annotation}], _recordExpression_annotation = Just Annotation}))), _metadataExpression_second = Nothing, _metadataExpression_annotation = Just Annotation})))))))))], _invokeExpression_annotation = Just Annotation}))), _metadataExpression_second = Nothing, _metadataExpression_annotation = Just Annotation}))))))))), _variable_annotation = Just Annotation},Variable {_variable_name = QuotedI \"#\\\"Changed Type\\\"\", _variable_expression = LogicalE (And_OE (Is_LAE (As_IE (EqualityAE (RelationalEE (AdditiveRE (MultiplicativeAE (MetadataME (MetadataExpression {_metadataExpression_first = UnaryType (Primary_TE (InvokePE (InvokeExpression {_invokeExpression_primary = FieldAccessPE (ImplicitTargetProjection {_implicitTargetProjection_identifier = RegularI \"Table.TransformColumnTypes\", _implicitTargetProjection_annotation = Just Annotation}), _invokeExpression_argumentList = Just [LogicalE (And_OE (Is_LAE (As_IE (EqualityAE (RelationalEE (AdditiveRE (MultiplicativeAE (MetadataME (MetadataExpression {_metadataExpression_first = UnaryType (Primary_TE (FieldAccessPE (ImplicitTargetProjection {_implicitTargetProjection_identifier = QuotedI \"#\\\"Promoted Headers\\\"\", _implicitTargetProjection_annotation = Just Annotation}))), _metadataExpression_second = Nothing, _metadataExpression_annotation = Just Annotation}))))))))),LogicalE (And_OE (Is_LAE (As_IE (EqualityAE (RelationalEE (AdditiveRE (MultiplicativeAE (MetadataME (MetadataExpression {_metadataExpression_first = UnaryType (Primary_TE (ListPE (ListExpression {_listExpression_itemList = Just [Item {_item_first = LogicalE (And_OE (Is_LAE (As_IE (EqualityAE (RelationalEE (AdditiveRE (MultiplicativeAE (MetadataME (MetadataExpression {_metadataExpression_first = UnaryType (Primary_TE (ListPE (ListExpression {_listExpression_itemList = Just [Item {_item_first = LogicalE (And_OE (Is_LAE (As_IE (EqualityAE (RelationalEE (AdditiveRE (MultiplicativeAE (MetadataME (MetadataExpression {_metadataExpression_first = UnaryType (Primary_TE (LiteralPE (LiteralExpression {_literalExpression_literal = StringL \"\\\"sepal_length\\\"\", _literalExpression_annotation = Just Annotation}))), _metadataExpression_second = Nothing, _metadataExpression_annotation = Just Annotation}))))))))), _item_second = Nothing, _item_annotation = Just Annotation},Item {_item_first = LogicalE (And_OE (Is_LAE (As_IE (EqualityAE (RelationalEE (AdditiveRE (MultiplicativeAE (MetadataME (MetadataExpression {_metadataExpression_first = UnaryType (PrimaryType_TE (PrimitiveType' TypeNumber)), _metadataExpression_second = Nothing, _metadataExpression_annotation = Just Annotation}))))))))), _item_second = Nothing, _item_annotation = Just Annotation}], _listExpression_annotation = Just Annotation}))), _metadataExpression_second = Nothing, _metadataExpression_annotation = Just Annotation}))))))))), _item_second = Nothing, _item_annotation = Just Annotation},Item {_item_first = LogicalE (And_OE (Is_LAE (As_IE (EqualityAE (RelationalEE (AdditiveRE (MultiplicativeAE (MetadataME (MetadataExpression {_metadataExpression_first = UnaryType (Primary_TE (ListPE (ListExpression {_listExpression_itemList = Just [Item {_item_first = LogicalE (And_OE (Is_LAE (As_IE (EqualityAE (RelationalEE (AdditiveRE (MultiplicativeAE (MetadataME (MetadataExpression {_metadataExpression_first = UnaryType (Primary_TE (LiteralPE (LiteralExpression {_literalExpression_literal = StringL \"\\\"sepal_width\\\"\", _literalExpression_annotation = Just Annotation}))), _metadataExpression_second = Nothing, _metadataExpression_annotation = Just Annotation}))))))))), _item_second = Nothing, _item_annotation = Just Annotation},Item {_item_first = LogicalE (And_OE (Is_LAE (As_IE (EqualityAE (RelationalEE (AdditiveRE (MultiplicativeAE (MetadataME (MetadataExpression {_metadataExpression_first = UnaryType (PrimaryType_TE (PrimitiveType' TypeNumber)), _metadataExpression_second = Nothing, _metadataExpression_annotation = Just Annotation}))))))))), _item_second = Nothing, _item_annotation = Just Annotation}], _listExpression_annotation = Just Annotation}))), _metadataExpression_second = Nothing, _metadataExpression_annotation = Just Annotation}))))))))), _item_second = Nothing, _item_annotation = Just Annotation},Item {_item_first = LogicalE (And_OE (Is_LAE (As_IE (EqualityAE (RelationalEE (AdditiveRE (MultiplicativeAE (MetadataME (MetadataExpression {_metadataExpression_first = UnaryType (Primary_TE (ListPE (ListExpression {_listExpression_itemList = Just [Item {_item_first = LogicalE (And_OE (Is_LAE (As_IE (EqualityAE (RelationalEE (AdditiveRE (MultiplicativeAE (MetadataME (MetadataExpression {_metadataExpression_first = UnaryType (Primary_TE (LiteralPE (LiteralExpression {_literalExpression_literal = StringL \"\\\"petal_length\\\"\", _literalExpression_annotation = Just Annotation}))), _metadataExpression_second = Nothing, _metadataExpression_annotation = Just Annotation}))))))))), _item_second = Nothing, _item_annotation = Just Annotation},Item {_item_first = LogicalE (And_OE (Is_LAE (As_IE (EqualityAE (RelationalEE (AdditiveRE (MultiplicativeAE (MetadataME (MetadataExpression {_metadataExpression_first = UnaryType (PrimaryType_TE (PrimitiveType' TypeNumber)), _metadataExpression_second = Nothing, _metadataExpression_annotation = Just Annotation}))))))))), _item_second = Nothing, _item_annotation = Just Annotation}], _listExpression_annotation = Just Annotation}))), _metadataExpression_second = Nothing, _metadataExpression_annotation = Just Annotation}))))))))), _item_second = Nothing, _item_annotation = Just Annotation},Item {_item_first = LogicalE (And_OE (Is_LAE (As_IE (EqualityAE (RelationalEE (AdditiveRE (MultiplicativeAE (MetadataME (MetadataExpression {_metadataExpression_first = UnaryType (Primary_TE (ListPE (ListExpression {_listExpression_itemList = Just [Item {_item_first = LogicalE (And_OE (Is_LAE (As_IE (EqualityAE (RelationalEE (AdditiveRE (MultiplicativeAE (MetadataME (MetadataExpression {_metadataExpression_first = UnaryType (Primary_TE (LiteralPE (LiteralExpression {_literalExpression_literal = StringL \"\\\"petal_width\\\"\", _literalExpression_annotation = Just Annotation}))), _metadataExpression_second = Nothing, _metadataExpression_annotation = Just Annotation}))))))))), _item_second = Nothing, _item_annotation = Just Annotation},Item {_item_first = LogicalE (And_OE (Is_LAE (As_IE (EqualityAE (RelationalEE (AdditiveRE (MultiplicativeAE (MetadataME (MetadataExpression {_metadataExpression_first = UnaryType (PrimaryType_TE (PrimitiveType' TypeNumber)), _metadataExpression_second = Nothing, _metadataExpression_annotation = Just Annotation}))))))))), _item_second = Nothing, _item_annotation = Just Annotation}], _listExpression_annotation = Just Annotation}))), _metadataExpression_second = Nothing, _metadataExpression_annotation = Just Annotation}))))))))), _item_second = Nothing, _item_annotation = Just Annotation},Item {_item_first = LogicalE (And_OE (Is_LAE (As_IE (EqualityAE (RelationalEE (AdditiveRE (MultiplicativeAE (MetadataME (MetadataExpression {_metadataExpression_first = UnaryType (Primary_TE (ListPE (ListExpression {_listExpression_itemList = Just [Item {_item_first = LogicalE (And_OE (Is_LAE (As_IE (EqualityAE (RelationalEE (AdditiveRE (MultiplicativeAE (MetadataME (MetadataExpression {_metadataExpression_first = UnaryType (Primary_TE (LiteralPE (LiteralExpression {_literalExpression_literal = StringL \"\\\"species\\\"\", _literalExpression_annotation = Just Annotation}))), _metadataExpression_second = Nothing, _metadataExpression_annotation = Just Annotation}))))))))), _item_second = Nothing, _item_annotation = Just Annotation},Item {_item_first = LogicalE (And_OE (Is_LAE (As_IE (EqualityAE (RelationalEE (AdditiveRE (MultiplicativeAE (MetadataME (MetadataExpression {_metadataExpression_first = UnaryType (PrimaryType_TE (PrimitiveType' TypeText)), _metadataExpression_second = Nothing, _metadataExpression_annotation = Just Annotation}))))))))), _item_second = Nothing, _item_annotation = Just Annotation}], _listExpression_annotation = Just Annotation}))), _metadataExpression_second = Nothing, _metadataExpression_annotation = Just Annotation}))))))))), _item_second = Nothing, _item_annotation = Just Annotation}], _listExpression_annotation = Just Annotation}))), _metadataExpression_second = Nothing, _metadataExpression_annotation = Just Annotation})))))))))], _invokeExpression_annotation = Just Annotation}))), _metadataExpression_second = Nothing, _metadataExpression_annotation = Just Annotation}))))))))), _variable_annotation = Just Annotation}], _letExpression_expression = LogicalE (And_OE (Is_LAE (As_IE (EqualityAE (RelationalEE (AdditiveRE (MultiplicativeAE (MetadataME (MetadataExpression {_metadataExpression_first = UnaryType (Primary_TE (FieldAccessPE (ImplicitTargetProjection {_implicitTargetProjection_identifier = QuotedI \"#\\\"Changed Type\\\"\", _implicitTargetProjection_annotation = Just Annotation}))), _metadataExpression_second = Nothing, _metadataExpression_annotation = Just Annotation}))))))))), _letExpression_annotation = Just Annotation}), _sectionMember_annotation = Just Annotation}], _section_annotation = Just Annotation})"
      ]
     },
     "metadata": {},
     "output_type": "display_data"
    }
   ],
   "source": [
    ":t bs ^. pbix . dataMashup . formula \"Section1.m\" . document\n",
    "\n",
    "bs ^. pbix . dataMashup . formula \"Section1.m\" . document"
   ]
  },
  {
   "cell_type": "markdown",
   "metadata": {},
   "source": [
    "### 6. Get all __String__ literals in __Section1.m__\n",
    "- Using __uniplate__ library\n",
    "- We get all columns names (\"features\" names) from CSV "
   ]
  },
  {
   "cell_type": "code",
   "execution_count": 6,
   "metadata": {},
   "outputs": [
    {
     "data": {
      "text/plain": [
       "[\"\\\"\\\\\\\\VBOXSVR\\\\Shared\\\\PowerBI\\\\iris.csv\\\"\",\"\\\",\\\"\",\"\\\"sepal_length\\\"\",\"\\\"sepal_width\\\"\",\"\\\"petal_length\\\"\",\"\\\"petal_width\\\"\",\"\\\"species\\\"\"]"
      ]
     },
     "metadata": {},
     "output_type": "display_data"
    }
   ],
   "source": [
    "let ast = bs ^. pbix . dataMashup . formula \"Section1.m\" . document\n",
    "\n",
    "let literals = universeBi :: (Document Annotation -> [Literal])\n",
    "literals ast ^.. traversed . _StringL"
   ]
  },
  {
   "cell_type": "markdown",
   "metadata": {},
   "source": [
    "### 7. What kind of data source are we using?"
   ]
  },
  {
   "cell_type": "code",
   "execution_count": 7,
   "metadata": {},
   "outputs": [
    {
     "data": {
      "text/plain": [
       "RegularI \"Csv.Document\""
      ]
     },
     "metadata": {},
     "output_type": "display_data"
    }
   ],
   "source": [
    "let ast = bs ^. pbix . dataMashup . formula \"Section1.m\" . document\n",
    "\n",
    "getSource ast = ident\n",
    "    where\n",
    "        variables = universeBi :: (Document Annotation -> [Variable Annotation])\n",
    "        variable  = head [v | v <- variables ast, v ^. variable_name == RegularI \"Source\"]\n",
    "\n",
    "        invokes = universeBi :: (Variable Annotation -> [InvokeExpression Annotation])\n",
    "        invoke  = head $ invokes variable\n",
    "\n",
    "        idents  = universeBi :: (InvokeExpression Annotation -> [Identifier])\n",
    "        ident   = head $ idents invoke\n",
    "\n",
    "getSource ast"
   ]
  },
  {
   "cell_type": "code",
   "execution_count": null,
   "metadata": {},
   "outputs": [],
   "source": []
  }
 ],
 "metadata": {
  "kernelspec": {
   "display_name": "Haskell - powerquery-env-ihaskell",
   "language": "haskell",
   "name": "ihaskell_powerquery-env-ihaskell"
  },
  "language_info": {
   "codemirror_mode": "ihaskell",
   "file_extension": ".hs",
   "name": "haskell",
   "pygments_lexer": "Haskell",
   "version": "8.4.4"
  }
 },
 "nbformat": 4,
 "nbformat_minor": 2
}
