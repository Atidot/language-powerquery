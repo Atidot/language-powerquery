{
 "cells": [
  {
   "cell_type": "code",
   "execution_count": 1,
   "metadata": {},
   "outputs": [],
   "source": [
    "{-# LANGUAGE PackageImports #-}\n",
    "{-# LANGUAGE OverloadedStrings #-}\n",
    "import           \"lens\"                    Control.Lens\n",
    "import qualified \"bytestring\"              Data.ByteString.Lazy.Char8 as BL8"
   ]
  },
  {
   "cell_type": "code",
   "execution_count": 2,
   "metadata": {},
   "outputs": [],
   "source": [
    "import           \"language-powerquery-ast\" Language.PowerQuery.AST\n",
    "import           \"language-powerquery\"     Language.PowerQuery\n",
    "import           \"pbix\"                    Codec.Pbix.Types"
   ]
  },
  {
   "cell_type": "code",
   "execution_count": 3,
   "metadata": {},
   "outputs": [],
   "source": [
    "bs <- BL8.readFile \"/home/barak/Shared/PowerBI/csvTable/csvTable.pbix\""
   ]
  },
  {
   "cell_type": "code",
   "execution_count": 4,
   "metadata": {},
   "outputs": [
    {
     "data": {
      "text/plain": [
       "Formula \"section Section1;\\r\\n\\r\\nshared iris = let\\r\\n    Source = Csv.Document(File.Contents(\\\"\\\\\\\\VBOXSVR\\\\Shared\\\\PowerBI\\\\iris.csv\\\"),[Delimiter=\\\",\\\", Columns=5, Encoding=1252, QuoteStyle=QuoteStyle.None]),\\r\\n    #\\\"Promoted Headers\\\" = Table.PromoteHeaders(Source, [PromoteAllScalars=true]),\\r\\n    #\\\"Changed Type\\\" = Table.TransformColumnTypes(#\\\"Promoted Headers\\\",{{\\\"sepal_length\\\", type number}, {\\\"sepal_width\\\", type number}, {\\\"petal_length\\\", type number}, {\\\"petal_width\\\", type number}, {\\\"species\\\", type text}})\\r\\nin\\r\\n    #\\\"Changed Type\\\";\""
      ]
     },
     "metadata": {},
     "output_type": "display_data"
    }
   ],
   "source": [
    "bs ^. pbix . dataMashup . formula \"Section1.m\"\n"
   ]
  },
  {
   "cell_type": "code",
   "execution_count": 6,
   "metadata": {},
   "outputs": [
    {
     "data": {
      "text/plain": [
       "\"section Section1;\\r\\n\\r\\nshared iris = let\\r\\n    Source = Csv.Document(File.Contents(\\\"\\\\\\\\VBOXSVR\\\\Shared\\\\PowerBI\\\\iris.csv\\\"),[Delimiter=\\\",\\\", Columns=5, Encoding=1252, QuoteStyle=QuoteStyle.None]),\\r\\n    #\\\"Promoted Headers\\\" = Table.PromoteHeaders(Source, [PromoteAllScalars=true]),\\r\\n    #\\\"Changed Type\\\" = Table.TransformColumnTypes(#\\\"Promoted Headers\\\",{{\\\"sepal_length\\\", type number}, {\\\"sepal_width\\\", type number}, {\\\"petal_length\\\", type number}, {\\\"petal_width\\\", type number}, {\\\"species\\\", type text}})\\r\\nin\\r\\n    #\\\"Changed Type\\\";\""
      ]
     },
     "metadata": {},
     "output_type": "display_data"
    },
    {
     "data": {
      "text/html": [
       "<style>/* Styles used for the Hoogle display in the pager */\n",
       ".hoogle-doc {\n",
       "display: block;\n",
       "padding-bottom: 1.3em;\n",
       "padding-left: 0.4em;\n",
       "}\n",
       ".hoogle-code {\n",
       "display: block;\n",
       "font-family: monospace;\n",
       "white-space: pre;\n",
       "}\n",
       ".hoogle-text {\n",
       "display: block;\n",
       "}\n",
       ".hoogle-name {\n",
       "color: green;\n",
       "font-weight: bold;\n",
       "}\n",
       ".hoogle-head {\n",
       "font-weight: bold;\n",
       "}\n",
       ".hoogle-sub {\n",
       "display: block;\n",
       "margin-left: 0.4em;\n",
       "}\n",
       ".hoogle-package {\n",
       "font-weight: bold;\n",
       "font-style: italic;\n",
       "}\n",
       ".hoogle-module {\n",
       "font-weight: bold;\n",
       "}\n",
       ".hoogle-class {\n",
       "font-weight: bold;\n",
       "}\n",
       ".get-type {\n",
       "color: green;\n",
       "font-weight: bold;\n",
       "font-family: monospace;\n",
       "display: block;\n",
       "white-space: pre-wrap;\n",
       "}\n",
       ".show-type {\n",
       "color: green;\n",
       "font-weight: bold;\n",
       "font-family: monospace;\n",
       "margin-left: 1em;\n",
       "}\n",
       ".mono {\n",
       "font-family: monospace;\n",
       "display: block;\n",
       "}\n",
       ".err-msg {\n",
       "color: red;\n",
       "font-style: italic;\n",
       "font-family: monospace;\n",
       "white-space: pre;\n",
       "display: block;\n",
       "}\n",
       "#unshowable {\n",
       "color: red;\n",
       "font-weight: bold;\n",
       "}\n",
       ".err-msg.in.collapse {\n",
       "padding-top: 0.7em;\n",
       "}\n",
       ".highlight-code {\n",
       "white-space: pre;\n",
       "font-family: monospace;\n",
       "}\n",
       ".suggestion-warning { \n",
       "font-weight: bold;\n",
       "color: rgb(200, 130, 0);\n",
       "}\n",
       ".suggestion-error { \n",
       "font-weight: bold;\n",
       "color: red;\n",
       "}\n",
       ".suggestion-name {\n",
       "font-weight: bold;\n",
       "}\n",
       "</style><span class='err-msg'>Parse error [IdentifierT (RegularI \"number\"),OperatorT RightCurlyO,OperatorT CommaO,OperatorT LeftCurlyO,LiteralT (StringL \"\\\"sepal_width\\\"\"),OperatorT CommaO,KeywordT TypeK,IdentifierT (RegularI \"number\"),OperatorT RightCurlyO,OperatorT CommaO,OperatorT LeftCurlyO,LiteralT (StringL \"\\\"petal_length\\\"\"),OperatorT CommaO,KeywordT TypeK,IdentifierT (RegularI \"number\"),OperatorT RightCurlyO,OperatorT CommaO,OperatorT LeftCurlyO,LiteralT (StringL \"\\\"petal_width\\\"\"),OperatorT CommaO,KeywordT TypeK,IdentifierT (RegularI \"number\"),OperatorT RightCurlyO,OperatorT CommaO,OperatorT LeftCurlyO,LiteralT (StringL \"\\\"species\\\"\"),OperatorT CommaO,KeywordT TypeK,IdentifierT (RegularI \"text\"),OperatorT RightCurlyO,OperatorT RightCurlyO,OperatorT RightParenO,KeywordT InK,IdentifierT (QuotedI \"#\\\"Changed Type\\\"\"),OperatorT SemiColonO]<br/>CallStack (from HasCallStack):<br/>  error, called at dist/build/Language/PowerQuery/Parser.hs:2943:17 in language-powerquery-0.1.0.0-BpndezBezmwFpYMKNOnFER:Language.PowerQuery.Parser</span>"
      ],
      "text/plain": [
       "Parse error [IdentifierT (RegularI \"number\"),OperatorT RightCurlyO,OperatorT CommaO,OperatorT LeftCurlyO,LiteralT (StringL \"\\\"sepal_width\\\"\"),OperatorT CommaO,KeywordT TypeK,IdentifierT (RegularI \"number\"),OperatorT RightCurlyO,OperatorT CommaO,OperatorT LeftCurlyO,LiteralT (StringL \"\\\"petal_length\\\"\"),OperatorT CommaO,KeywordT TypeK,IdentifierT (RegularI \"number\"),OperatorT RightCurlyO,OperatorT CommaO,OperatorT LeftCurlyO,LiteralT (StringL \"\\\"petal_width\\\"\"),OperatorT CommaO,KeywordT TypeK,IdentifierT (RegularI \"number\"),OperatorT RightCurlyO,OperatorT CommaO,OperatorT LeftCurlyO,LiteralT (StringL \"\\\"species\\\"\"),OperatorT CommaO,KeywordT TypeK,IdentifierT (RegularI \"text\"),OperatorT RightCurlyO,OperatorT RightCurlyO,OperatorT RightParenO,KeywordT InK,IdentifierT (QuotedI \"#\\\"Changed Type\\\"\"),OperatorT SemiColonO]\n",
       "CallStack (from HasCallStack):\n",
       "  error, called at dist/build/Language/PowerQuery/Parser.hs:2943:17 in language-powerquery-0.1.0.0-BpndezBezmwFpYMKNOnFER:Language.PowerQuery.Parser"
      ]
     },
     "metadata": {},
     "output_type": "display_data"
    }
   ],
   "source": [
    "fromRight (Right x) = x\n",
    "let (Formula f) = bs ^. pbix . dataMashup . formula \"Section1.m\"\n",
    "print f\n",
    "parseDocument . fromRight . lexer . BL8.unpack $ f"
   ]
  },
  {
   "cell_type": "code",
   "execution_count": 7,
   "metadata": {},
   "outputs": [
    {
     "data": {
      "text/html": [
       "<style>/* Styles used for the Hoogle display in the pager */\n",
       ".hoogle-doc {\n",
       "display: block;\n",
       "padding-bottom: 1.3em;\n",
       "padding-left: 0.4em;\n",
       "}\n",
       ".hoogle-code {\n",
       "display: block;\n",
       "font-family: monospace;\n",
       "white-space: pre;\n",
       "}\n",
       ".hoogle-text {\n",
       "display: block;\n",
       "}\n",
       ".hoogle-name {\n",
       "color: green;\n",
       "font-weight: bold;\n",
       "}\n",
       ".hoogle-head {\n",
       "font-weight: bold;\n",
       "}\n",
       ".hoogle-sub {\n",
       "display: block;\n",
       "margin-left: 0.4em;\n",
       "}\n",
       ".hoogle-package {\n",
       "font-weight: bold;\n",
       "font-style: italic;\n",
       "}\n",
       ".hoogle-module {\n",
       "font-weight: bold;\n",
       "}\n",
       ".hoogle-class {\n",
       "font-weight: bold;\n",
       "}\n",
       ".get-type {\n",
       "color: green;\n",
       "font-weight: bold;\n",
       "font-family: monospace;\n",
       "display: block;\n",
       "white-space: pre-wrap;\n",
       "}\n",
       ".show-type {\n",
       "color: green;\n",
       "font-weight: bold;\n",
       "font-family: monospace;\n",
       "margin-left: 1em;\n",
       "}\n",
       ".mono {\n",
       "font-family: monospace;\n",
       "display: block;\n",
       "}\n",
       ".err-msg {\n",
       "color: red;\n",
       "font-style: italic;\n",
       "font-family: monospace;\n",
       "white-space: pre;\n",
       "display: block;\n",
       "}\n",
       "#unshowable {\n",
       "color: red;\n",
       "font-weight: bold;\n",
       "}\n",
       ".err-msg.in.collapse {\n",
       "padding-top: 0.7em;\n",
       "}\n",
       ".highlight-code {\n",
       "white-space: pre;\n",
       "font-family: monospace;\n",
       "}\n",
       ".suggestion-warning { \n",
       "font-weight: bold;\n",
       "color: rgb(200, 130, 0);\n",
       "}\n",
       ".suggestion-error { \n",
       "font-weight: bold;\n",
       "color: red;\n",
       "}\n",
       ".suggestion-name {\n",
       "font-weight: bold;\n",
       "}\n",
       "</style><span class='err-msg'>Parse error [LiteralT (StringL \"\\\"\\\\\\\\VBOXSVR\\\\Shared\\\\PowerBI\\\\iris.csv\\\"\"),OperatorT RightParenO,OperatorT CommaO,OperatorT LeftBracketO,IdentifierT (RegularI \"Delimiter\"),OperatorT EqualO,LiteralT (StringL \"\\\",\\\"\"),OperatorT CommaO,IdentifierT (RegularI \"Columns\"),OperatorT EqualO,LiteralT (NumberL (IntegerL 5)),OperatorT CommaO,IdentifierT (RegularI \"Encoding\"),OperatorT EqualO,LiteralT (NumberL (IntegerL 1252)),OperatorT CommaO,IdentifierT (RegularI \"QuoteStyle\"),OperatorT EqualO,IdentifierT (RegularI \"QuoteStyle.None\"),OperatorT RightBracketO,OperatorT RightParenO,OperatorT CommaO,IdentifierT (QuotedI \"#\\\"Promoted Headers\\\"\"),OperatorT EqualO,IdentifierT (RegularI \"Table.PromoteHeaders\"),OperatorT LeftParenO,IdentifierT (RegularI \"Source\"),OperatorT CommaO,OperatorT LeftBracketO,IdentifierT (RegularI \"PromoteAllScalars\"),OperatorT EqualO,KeywordT TrueK,OperatorT RightBracketO,OperatorT RightParenO,OperatorT CommaO,IdentifierT (QuotedI \"#\\\"Changed Type\\\"\"),OperatorT EqualO,IdentifierT (RegularI \"Table.TransformColumnTypes\"),OperatorT LeftParenO,IdentifierT (QuotedI \"#\\\"Promoted Headers\\\"\"),OperatorT CommaO,OperatorT LeftCurlyO,OperatorT LeftCurlyO,LiteralT (StringL \"\\\"sepal_length\\\"\"),OperatorT CommaO,KeywordT TypeK,IdentifierT (RegularI \"number\"),OperatorT RightCurlyO,OperatorT CommaO,OperatorT LeftCurlyO,LiteralT (StringL \"\\\"sepal_width\\\"\"),OperatorT CommaO,KeywordT TypeK,IdentifierT (RegularI \"number\"),OperatorT RightCurlyO,OperatorT CommaO,OperatorT LeftCurlyO,LiteralT (StringL \"\\\"petal_length\\\"\"),OperatorT CommaO,KeywordT TypeK,IdentifierT (RegularI \"number\"),OperatorT RightCurlyO,OperatorT CommaO,OperatorT LeftCurlyO,LiteralT (StringL \"\\\"petal_width\\\"\"),OperatorT CommaO,KeywordT TypeK,IdentifierT (RegularI \"number\"),OperatorT RightCurlyO,OperatorT CommaO,OperatorT LeftCurlyO,LiteralT (StringL \"\\\"species\\\"\"),OperatorT CommaO,KeywordT TypeK,IdentifierT (RegularI \"text\"),OperatorT RightCurlyO,OperatorT RightCurlyO,OperatorT RightParenO,KeywordT InK,IdentifierT (QuotedI \"#\\\"Changed Type\\\"\"),OperatorT SemiColonO]<br/>CallStack (from HasCallStack):<br/>  error, called at dist/build/Language/PowerQuery/Parser.hs:2913:17 in language-powerquery-0.1.0.0-BpndezBezmwFpYMKNOnFER:Language.PowerQuery.Parser</span>"
      ],
      "text/plain": [
       "Parse error [LiteralT (StringL \"\\\"\\\\\\\\VBOXSVR\\\\Shared\\\\PowerBI\\\\iris.csv\\\"\"),OperatorT RightParenO,OperatorT CommaO,OperatorT LeftBracketO,IdentifierT (RegularI \"Delimiter\"),OperatorT EqualO,LiteralT (StringL \"\\\",\\\"\"),OperatorT CommaO,IdentifierT (RegularI \"Columns\"),OperatorT EqualO,LiteralT (NumberL (IntegerL 5)),OperatorT CommaO,IdentifierT (RegularI \"Encoding\"),OperatorT EqualO,LiteralT (NumberL (IntegerL 1252)),OperatorT CommaO,IdentifierT (RegularI \"QuoteStyle\"),OperatorT EqualO,IdentifierT (RegularI \"QuoteStyle.None\"),OperatorT RightBracketO,OperatorT RightParenO,OperatorT CommaO,IdentifierT (QuotedI \"#\\\"Promoted Headers\\\"\"),OperatorT EqualO,IdentifierT (RegularI \"Table.PromoteHeaders\"),OperatorT LeftParenO,IdentifierT (RegularI \"Source\"),OperatorT CommaO,OperatorT LeftBracketO,IdentifierT (RegularI \"PromoteAllScalars\"),OperatorT EqualO,KeywordT TrueK,OperatorT RightBracketO,OperatorT RightParenO,OperatorT CommaO,IdentifierT (QuotedI \"#\\\"Changed Type\\\"\"),OperatorT EqualO,IdentifierT (RegularI \"Table.TransformColumnTypes\"),OperatorT LeftParenO,IdentifierT (QuotedI \"#\\\"Promoted Headers\\\"\"),OperatorT CommaO,OperatorT LeftCurlyO,OperatorT LeftCurlyO,LiteralT (StringL \"\\\"sepal_length\\\"\"),OperatorT CommaO,KeywordT TypeK,IdentifierT (RegularI \"number\"),OperatorT RightCurlyO,OperatorT CommaO,OperatorT LeftCurlyO,LiteralT (StringL \"\\\"sepal_width\\\"\"),OperatorT CommaO,KeywordT TypeK,IdentifierT (RegularI \"number\"),OperatorT RightCurlyO,OperatorT CommaO,OperatorT LeftCurlyO,LiteralT (StringL \"\\\"petal_length\\\"\"),OperatorT CommaO,KeywordT TypeK,IdentifierT (RegularI \"number\"),OperatorT RightCurlyO,OperatorT CommaO,OperatorT LeftCurlyO,LiteralT (StringL \"\\\"petal_width\\\"\"),OperatorT CommaO,KeywordT TypeK,IdentifierT (RegularI \"number\"),OperatorT RightCurlyO,OperatorT CommaO,OperatorT LeftCurlyO,LiteralT (StringL \"\\\"species\\\"\"),OperatorT CommaO,KeywordT TypeK,IdentifierT (RegularI \"text\"),OperatorT RightCurlyO,OperatorT RightCurlyO,OperatorT RightParenO,KeywordT InK,IdentifierT (QuotedI \"#\\\"Changed Type\\\"\"),OperatorT SemiColonO]\n",
       "CallStack (from HasCallStack):\n",
       "  error, called at dist/build/Language/PowerQuery/Parser.hs:2913:17 in language-powerquery-0.1.0.0-BpndezBezmwFpYMKNOnFER:Language.PowerQuery.Parser"
      ]
     },
     "metadata": {},
     "output_type": "display_data"
    }
   ],
   "source": [
    "fromRight (Right x) = x\n",
    "parseLetExpression . fromRight . lexer $ \"let\\r\\n    Source = Csv.Document(File.Contents(\\\"\\\\\\\\VBOXSVR\\\\Shared\\\\PowerBI\\\\iris.csv\\\"),[Delimiter=\\\",\\\", Columns=5, Encoding=1252, QuoteStyle=QuoteStyle.None]),\\r\\n    #\\\"Promoted Headers\\\" = Table.PromoteHeaders(Source, [PromoteAllScalars=true]),\\r\\n    #\\\"Changed Type\\\" = Table.TransformColumnTypes(#\\\"Promoted Headers\\\",{{\\\"sepal_length\\\", type number}, {\\\"sepal_width\\\", type number}, {\\\"petal_length\\\", type number}, {\\\"petal_width\\\", type number}, {\\\"species\\\", type text}})\\r\\nin\\r\\n    #\\\"Changed Type\\\";\""
   ]
  },
  {
   "cell_type": "code",
   "execution_count": 20,
   "metadata": {},
   "outputs": [
    {
     "data": {
      "text/plain": [
       "Right [IdentifierT (RegularI \"x\"),OperatorT LeftParenO,IdentifierT (QuotedI \"#\\\"Promoted Headers\\\"\"),OperatorT CommaO,OperatorT LeftCurlyO,OperatorT LeftCurlyO,LiteralT (StringL \"\\\"sepal_length\\\"\"),OperatorT CommaO,KeywordT TypeK,IdentifierT (RegularI \"number\"),OperatorT RightCurlyO,OperatorT CommaO,OperatorT LeftCurlyO,LiteralT (StringL \"\\\"sepal_width\\\"\"),OperatorT CommaO,KeywordT TypeK,IdentifierT (RegularI \"number\"),OperatorT RightCurlyO,OperatorT CommaO,OperatorT LeftCurlyO,LiteralT (StringL \"\\\"petal_length\\\"\"),OperatorT CommaO,KeywordT TypeK,IdentifierT (RegularI \"number\"),OperatorT RightCurlyO,OperatorT CommaO,OperatorT LeftCurlyO,LiteralT (StringL \"\\\"petal_width\\\"\"),OperatorT CommaO,KeywordT TypeK,IdentifierT (RegularI \"number\"),OperatorT RightCurlyO,OperatorT CommaO,OperatorT LeftCurlyO,LiteralT (StringL \"\\\"species\\\"\"),OperatorT CommaO,KeywordT TypeK,IdentifierT (RegularI \"text\"),OperatorT RightCurlyO,OperatorT RightCurlyO,OperatorT RightParenO]"
      ]
     },
     "metadata": {},
     "output_type": "display_data"
    }
   ],
   "source": [
    "lexer \"x(#\\\"Promoted Headers\\\",{{\\\"sepal_length\\\", type number}, {\\\"sepal_width\\\", type number}, {\\\"petal_length\\\", type number}, {\\\"petal_width\\\", type number}, {\\\"species\\\", type text}})\""
   ]
  },
  {
   "cell_type": "code",
   "execution_count": 21,
   "metadata": {},
   "outputs": [
    {
     "data": {
      "text/plain": [
       "Left \"lexical error at line 1, column 3\""
      ]
     },
     "metadata": {},
     "output_type": "display_data"
    }
   ],
   "source": [
    "lexer \"x.x(#\\\"Promoted Headers\\\",{{\\\"sepal_length\\\", type number}, {\\\"sepal_width\\\", type number}, {\\\"petal_length\\\", type number}, {\\\"petal_width\\\", type number}, {\\\"species\\\", type text}})\""
   ]
  },
  {
   "cell_type": "code",
   "execution_count": 28,
   "metadata": {},
   "outputs": [
    {
     "data": {
      "text/plain": [
       "Right [IdentifierT (QuotedI \"#\\\"Changed Type\\\"\"),OperatorT EqualO,IdentifierT (RegularI \"xxx\"),OperatorT LeftParenO,IdentifierT (QuotedI \"#\\\"Promoted Headers\\\"\"),OperatorT CommaO,OperatorT LeftCurlyO,OperatorT LeftCurlyO,LiteralT (StringL \"\\\"sepal_length\\\"\"),OperatorT CommaO,KeywordT TypeK,IdentifierT (RegularI \"number\"),OperatorT RightCurlyO,OperatorT CommaO,OperatorT LeftCurlyO,LiteralT (StringL \"\\\"sepal_width\\\"\"),OperatorT CommaO,KeywordT TypeK,IdentifierT (RegularI \"number\"),OperatorT RightCurlyO,OperatorT CommaO,OperatorT LeftCurlyO,LiteralT (StringL \"\\\"petal_length\\\"\"),OperatorT CommaO,KeywordT TypeK,IdentifierT (RegularI \"number\"),OperatorT RightCurlyO,OperatorT CommaO,OperatorT LeftCurlyO,LiteralT (StringL \"\\\"petal_width\\\"\"),OperatorT CommaO,KeywordT TypeK,IdentifierT (RegularI \"number\"),OperatorT RightCurlyO,OperatorT CommaO,OperatorT LeftCurlyO,LiteralT (StringL \"\\\"species\\\"\"),OperatorT CommaO,KeywordT TypeK,IdentifierT (RegularI \"text\"),OperatorT RightCurlyO,OperatorT RightCurlyO,OperatorT RightParenO]"
      ]
     },
     "metadata": {},
     "output_type": "display_data"
    }
   ],
   "source": [
    "lexer \"#\\\"Changed Type\\\" = xxx(#\\\"Promoted Headers\\\",{{\\\"sepal_length\\\", type number}, {\\\"sepal_width\\\", type number}, {\\\"petal_length\\\", type number}, {\\\"petal_width\\\", type number}, {\\\"species\\\", type text}})\""
   ]
  },
  {
   "cell_type": "code",
   "execution_count": 29,
   "metadata": {},
   "outputs": [
    {
     "data": {
      "text/plain": [
       "Right [KeywordT SectionK,IdentifierT (RegularI \"Section1\"),OperatorT SemiColonO,KeywordT SharedK,IdentifierT (RegularI \"iris\"),OperatorT EqualO,KeywordT LetK,IdentifierT (RegularI \"Source\"),OperatorT EqualO,IdentifierT (RegularI \"CsvDocument\"),OperatorT LeftParenO,IdentifierT (RegularI \"FileContents\"),OperatorT LeftParenO,LiteralT (StringL \"\\\"\\\\\\\\VBOXSVR\\\\Shared\\\\PowerBI\\\\iris.csv\\\"\"),OperatorT RightParenO,OperatorT CommaO,OperatorT LeftBracketO,IdentifierT (RegularI \"Delimiter\"),OperatorT EqualO,LiteralT (StringL \"\\\",\\\"\"),OperatorT CommaO,IdentifierT (RegularI \"Columns\"),OperatorT EqualO,LiteralT (NumberL (IntegerL 5)),OperatorT CommaO,IdentifierT (RegularI \"Encoding\"),OperatorT EqualO,LiteralT (NumberL (IntegerL 1252)),OperatorT CommaO,IdentifierT (RegularI \"QuoteStyle\"),OperatorT EqualO,IdentifierT (RegularI \"QuoteStyleNone\"),OperatorT RightBracketO,OperatorT RightParenO,OperatorT CommaO,IdentifierT (QuotedI \"#\\\"Promoted Headers\\\"\"),OperatorT EqualO,IdentifierT (RegularI \"TablePromoteHeaders\"),OperatorT LeftParenO,IdentifierT (RegularI \"Source\"),OperatorT CommaO,OperatorT LeftBracketO,IdentifierT (RegularI \"PromoteAllScalars\"),OperatorT EqualO,KeywordT TrueK,OperatorT RightBracketO,OperatorT RightParenO,OperatorT CommaO,IdentifierT (QuotedI \"#\\\"Changed Type\\\"\"),OperatorT EqualO,IdentifierT (RegularI \"TableTransformColumnTypes\"),OperatorT LeftParenO,IdentifierT (QuotedI \"#\\\"Promoted Headers\\\"\"),OperatorT CommaO,OperatorT LeftCurlyO,OperatorT LeftCurlyO,LiteralT (StringL \"\\\"sepal_length\\\"\"),OperatorT CommaO,KeywordT TypeK,IdentifierT (RegularI \"number\"),OperatorT RightCurlyO,OperatorT CommaO,OperatorT LeftCurlyO,LiteralT (StringL \"\\\"sepal_width\\\"\"),OperatorT CommaO,KeywordT TypeK,IdentifierT (RegularI \"number\"),OperatorT RightCurlyO,OperatorT CommaO,OperatorT LeftCurlyO,LiteralT (StringL \"\\\"petal_length\\\"\"),OperatorT CommaO,KeywordT TypeK,IdentifierT (RegularI \"number\"),OperatorT RightCurlyO,OperatorT CommaO,OperatorT LeftCurlyO,LiteralT (StringL \"\\\"petal_width\\\"\"),OperatorT CommaO,KeywordT TypeK,IdentifierT (RegularI \"number\"),OperatorT RightCurlyO,OperatorT CommaO,OperatorT LeftCurlyO,LiteralT (StringL \"\\\"species\\\"\"),OperatorT CommaO,KeywordT TypeK,IdentifierT (RegularI \"text\"),OperatorT RightCurlyO,OperatorT RightCurlyO,OperatorT RightParenO,KeywordT InK,IdentifierT (QuotedI \"#\\\"Changed Type\\\"\"),OperatorT SemiColonO]"
      ]
     },
     "metadata": {},
     "output_type": "display_data"
    }
   ],
   "source": [
    "lexer \"section Section1;\\r\\n\\r\\nshared iris = let\\r\\n    Source = CsvDocument(FileContents(\\\"\\\\\\\\VBOXSVR\\\\Shared\\\\PowerBI\\\\iris.csv\\\"),[Delimiter=\\\",\\\", Columns=5, Encoding=1252, QuoteStyle=QuoteStyleNone]),\\r\\n    #\\\"Promoted Headers\\\" = TablePromoteHeaders(Source, [PromoteAllScalars=true]),\\r\\n    #\\\"Changed Type\\\" = TableTransformColumnTypes(#\\\"Promoted Headers\\\",{{\\\"sepal_length\\\", type number}, {\\\"sepal_width\\\", type number}, {\\\"petal_length\\\", type number}, {\\\"petal_width\\\", type number}, {\\\"species\\\", type text}})\\r\\nin\\r\\n    #\\\"Changed Type\\\";\""
   ]
  },
  {
   "cell_type": "code",
   "execution_count": 11,
   "metadata": {},
   "outputs": [
    {
     "data": {
      "text/html": [
       "<style>/* Styles used for the Hoogle display in the pager */\n",
       ".hoogle-doc {\n",
       "display: block;\n",
       "padding-bottom: 1.3em;\n",
       "padding-left: 0.4em;\n",
       "}\n",
       ".hoogle-code {\n",
       "display: block;\n",
       "font-family: monospace;\n",
       "white-space: pre;\n",
       "}\n",
       ".hoogle-text {\n",
       "display: block;\n",
       "}\n",
       ".hoogle-name {\n",
       "color: green;\n",
       "font-weight: bold;\n",
       "}\n",
       ".hoogle-head {\n",
       "font-weight: bold;\n",
       "}\n",
       ".hoogle-sub {\n",
       "display: block;\n",
       "margin-left: 0.4em;\n",
       "}\n",
       ".hoogle-package {\n",
       "font-weight: bold;\n",
       "font-style: italic;\n",
       "}\n",
       ".hoogle-module {\n",
       "font-weight: bold;\n",
       "}\n",
       ".hoogle-class {\n",
       "font-weight: bold;\n",
       "}\n",
       ".get-type {\n",
       "color: green;\n",
       "font-weight: bold;\n",
       "font-family: monospace;\n",
       "display: block;\n",
       "white-space: pre-wrap;\n",
       "}\n",
       ".show-type {\n",
       "color: green;\n",
       "font-weight: bold;\n",
       "font-family: monospace;\n",
       "margin-left: 1em;\n",
       "}\n",
       ".mono {\n",
       "font-family: monospace;\n",
       "display: block;\n",
       "}\n",
       ".err-msg {\n",
       "color: red;\n",
       "font-style: italic;\n",
       "font-family: monospace;\n",
       "white-space: pre;\n",
       "display: block;\n",
       "}\n",
       "#unshowable {\n",
       "color: red;\n",
       "font-weight: bold;\n",
       "}\n",
       ".err-msg.in.collapse {\n",
       "padding-top: 0.7em;\n",
       "}\n",
       ".highlight-code {\n",
       "white-space: pre;\n",
       "font-family: monospace;\n",
       "}\n",
       ".suggestion-warning { \n",
       "font-weight: bold;\n",
       "color: rgb(200, 130, 0);\n",
       "}\n",
       ".suggestion-error { \n",
       "font-weight: bold;\n",
       "color: red;\n",
       "}\n",
       ".suggestion-name {\n",
       "font-weight: bold;\n",
       "}\n",
       "</style><span class='err-msg'>Parse error [IdentifierT (RegularI \"number\"),OperatorT RightCurlyO,OperatorT CommaO,OperatorT LeftCurlyO,LiteralT (StringL \"\\\"sepal_width\\\"\"),OperatorT CommaO,KeywordT TypeK,IdentifierT (RegularI \"number\"),OperatorT RightCurlyO,OperatorT CommaO,OperatorT LeftCurlyO,LiteralT (StringL \"\\\"petal_length\\\"\"),OperatorT CommaO,KeywordT TypeK,IdentifierT (RegularI \"number\"),OperatorT RightCurlyO,OperatorT CommaO,OperatorT LeftCurlyO,LiteralT (StringL \"\\\"petal_width\\\"\"),OperatorT CommaO,KeywordT TypeK,IdentifierT (RegularI \"number\"),OperatorT RightCurlyO,OperatorT CommaO,OperatorT LeftCurlyO,LiteralT (StringL \"\\\"species\\\"\"),OperatorT CommaO,KeywordT TypeK,IdentifierT (RegularI \"text\"),OperatorT RightCurlyO,OperatorT RightCurlyO,OperatorT RightParenO,KeywordT InK,IdentifierT (QuotedI \"#\\\"Changed Type\\\"\"),OperatorT SemiColonO]<br/>CallStack (from HasCallStack):<br/>  error, called at dist/build/Language/PowerQuery/Parser.hs:2929:17 in language-powerquery-0.1.0.0-BpndezBezmwFpYMKNOnFER:Language.PowerQuery.Parser</span>"
      ],
      "text/plain": [
       "Parse error [IdentifierT (RegularI \"number\"),OperatorT RightCurlyO,OperatorT CommaO,OperatorT LeftCurlyO,LiteralT (StringL \"\\\"sepal_width\\\"\"),OperatorT CommaO,KeywordT TypeK,IdentifierT (RegularI \"number\"),OperatorT RightCurlyO,OperatorT CommaO,OperatorT LeftCurlyO,LiteralT (StringL \"\\\"petal_length\\\"\"),OperatorT CommaO,KeywordT TypeK,IdentifierT (RegularI \"number\"),OperatorT RightCurlyO,OperatorT CommaO,OperatorT LeftCurlyO,LiteralT (StringL \"\\\"petal_width\\\"\"),OperatorT CommaO,KeywordT TypeK,IdentifierT (RegularI \"number\"),OperatorT RightCurlyO,OperatorT CommaO,OperatorT LeftCurlyO,LiteralT (StringL \"\\\"species\\\"\"),OperatorT CommaO,KeywordT TypeK,IdentifierT (RegularI \"text\"),OperatorT RightCurlyO,OperatorT RightCurlyO,OperatorT RightParenO,KeywordT InK,IdentifierT (QuotedI \"#\\\"Changed Type\\\"\"),OperatorT SemiColonO]\n",
       "CallStack (from HasCallStack):\n",
       "  error, called at dist/build/Language/PowerQuery/Parser.hs:2929:17 in language-powerquery-0.1.0.0-BpndezBezmwFpYMKNOnFER:Language.PowerQuery.Parser"
      ]
     },
     "metadata": {},
     "output_type": "display_data"
    }
   ],
   "source": [
    "fromRight (Right x) = x\n",
    "parseDocument . fromRight . lexer $ \"section Section1;\\r\\n\\r\\nshared iris = let\\r\\n    Source = CsvDocument(FileContents(\\\"\\\\\\\\VBOXSVR\\\\Shared\\\\PowerBI\\\\iris.csv\\\"),[Delimiter=\\\",\\\", Columns=5, Encoding=1252, QuoteStyle=QuoteStyleNone]),\\r\\n    #\\\"Promoted Headers\\\" = TablePromoteHeaders(Source, [PromoteAllScalars=5]),\\r\\n    #\\\"Changed Type\\\" = TableTransformColumnTypes(#\\\"Promoted Headers\\\",{{\\\"sepal_length\\\", type number}, {\\\"sepal_width\\\", type number}, {\\\"petal_length\\\", type number}, {\\\"petal_width\\\", type number}, {\\\"species\\\", type text}})\\r\\nin\\r\\n    #\\\"Changed Type\\\";\""
   ]
  },
  {
   "cell_type": "code",
   "execution_count": 34,
   "metadata": {},
   "outputs": [
    {
     "data": {
      "text/html": [
       "<style>/* Styles used for the Hoogle display in the pager */\n",
       ".hoogle-doc {\n",
       "display: block;\n",
       "padding-bottom: 1.3em;\n",
       "padding-left: 0.4em;\n",
       "}\n",
       ".hoogle-code {\n",
       "display: block;\n",
       "font-family: monospace;\n",
       "white-space: pre;\n",
       "}\n",
       ".hoogle-text {\n",
       "display: block;\n",
       "}\n",
       ".hoogle-name {\n",
       "color: green;\n",
       "font-weight: bold;\n",
       "}\n",
       ".hoogle-head {\n",
       "font-weight: bold;\n",
       "}\n",
       ".hoogle-sub {\n",
       "display: block;\n",
       "margin-left: 0.4em;\n",
       "}\n",
       ".hoogle-package {\n",
       "font-weight: bold;\n",
       "font-style: italic;\n",
       "}\n",
       ".hoogle-module {\n",
       "font-weight: bold;\n",
       "}\n",
       ".hoogle-class {\n",
       "font-weight: bold;\n",
       "}\n",
       ".get-type {\n",
       "color: green;\n",
       "font-weight: bold;\n",
       "font-family: monospace;\n",
       "display: block;\n",
       "white-space: pre-wrap;\n",
       "}\n",
       ".show-type {\n",
       "color: green;\n",
       "font-weight: bold;\n",
       "font-family: monospace;\n",
       "margin-left: 1em;\n",
       "}\n",
       ".mono {\n",
       "font-family: monospace;\n",
       "display: block;\n",
       "}\n",
       ".err-msg {\n",
       "color: red;\n",
       "font-style: italic;\n",
       "font-family: monospace;\n",
       "white-space: pre;\n",
       "display: block;\n",
       "}\n",
       "#unshowable {\n",
       "color: red;\n",
       "font-weight: bold;\n",
       "}\n",
       ".err-msg.in.collapse {\n",
       "padding-top: 0.7em;\n",
       "}\n",
       ".highlight-code {\n",
       "white-space: pre;\n",
       "font-family: monospace;\n",
       "}\n",
       ".suggestion-warning { \n",
       "font-weight: bold;\n",
       "color: rgb(200, 130, 0);\n",
       "}\n",
       ".suggestion-error { \n",
       "font-weight: bold;\n",
       "color: red;\n",
       "}\n",
       ".suggestion-name {\n",
       "font-weight: bold;\n",
       "}\n",
       "</style><span class='err-msg'>Parse error [LiteralT (StringL \"\\\"sepal length\\\"\"),OperatorT CommaO,KeywordT TypeK,IdentifierT (RegularI \"number\"),OperatorT RightCurlyO]<br/>CallStack (from HasCallStack):<br/>  error, called at dist/build/Language/PowerQuery/Parser.hs:2913:17 in language-powerquery-0.1.0.0-BpndezBezmwFpYMKNOnFER:Language.PowerQuery.Parser</span>"
      ],
      "text/plain": [
       "Parse error [LiteralT (StringL \"\\\"sepal length\\\"\"),OperatorT CommaO,KeywordT TypeK,IdentifierT (RegularI \"number\"),OperatorT RightCurlyO]\n",
       "CallStack (from HasCallStack):\n",
       "  error, called at dist/build/Language/PowerQuery/Parser.hs:2913:17 in language-powerquery-0.1.0.0-BpndezBezmwFpYMKNOnFER:Language.PowerQuery.Parser"
      ]
     },
     "metadata": {},
     "output_type": "display_data"
    }
   ],
   "source": [
    "fromRight (Right x) = x\n",
    "parseExpression . fromRight . lexer $ \"{\\\"sepal length\\\", type number}\"\n",
    "-- parseExpression . fromRight . lexer $ \"x.x(#\\\"Promoted Headers\\\",{{\\\"sepal_length\\\", type number}, {\\\"sepal_width\\\", type number}, {\\\"petal_length\\\", type number}, {\\\"petal_width\\\", type number}, {\\\"species\\\", type text}})\""
   ]
  },
  {
   "cell_type": "code",
   "execution_count": 9,
   "metadata": {},
   "outputs": [
    {
     "data": {
      "text/plain": [
       "SectionDocument (Section {_section_attributes = Nothing, _section_name = Just (RegularI \"Bobo1\"), _section_members = Just [SectionMember {_sectionMember_attributes = Nothing, _sectionMember_shared = True, _sectionMember_name = RegularI \"iris\", _sectionMember_expression = LetE (LetExpression {_letExpression_variableList = [Variable {_variable_name = RegularI \"Source\", _variable_expression = LogicalE (And_OE (Is_LAE (As_IE (EqualityAE (RelationalEE (AdditiveRE (MultiplicativeAE (MetadataME (MetadataExpression {_metadataExpression_first = UnaryType (Primary_TE (InvokePE (InvokeExpression {_invokeExpression_primary = FieldAccessPE (ImplicitTargetProjection {_implicitTargetProjection_identifier = RegularI \"Csv.Document\", _implicitTargetProjection_annotation = Just Annotation}), _invokeExpression_argumentList = Just [LogicalE (And_OE (Is_LAE (As_IE (EqualityAE (RelationalEE (AdditiveRE (MultiplicativeAE (MetadataME (MetadataExpression {_metadataExpression_first = UnaryType (Primary_TE (InvokePE (InvokeExpression {_invokeExpression_primary = FieldAccessPE (ImplicitTargetProjection {_implicitTargetProjection_identifier = RegularI \"File.Contents\", _implicitTargetProjection_annotation = Just Annotation}), _invokeExpression_argumentList = Just [LogicalE (And_OE (Is_LAE (As_IE (EqualityAE (RelationalEE (AdditiveRE (MultiplicativeAE (MetadataME (MetadataExpression {_metadataExpression_first = UnaryType (Primary_TE (LiteralPE (LiteralExpression {_literalExpression_literal = StringL \"\\\"hello world\\\"\", _literalExpression_annotation = Just Annotation}))), _metadataExpression_second = Nothing, _metadataExpression_annotation = Just Annotation})))))))))], _invokeExpression_annotation = Just Annotation}))), _metadataExpression_second = Nothing, _metadataExpression_annotation = Just Annotation})))))))))], _invokeExpression_annotation = Just Annotation}))), _metadataExpression_second = Nothing, _metadataExpression_annotation = Just Annotation}))))))))), _variable_annotation = Just Annotation}], _letExpression_expression = LogicalE (And_OE (Is_LAE (As_IE (EqualityAE (RelationalEE (AdditiveRE (MultiplicativeAE (MetadataME (MetadataExpression {_metadataExpression_first = UnaryType (Primary_TE (FieldAccessPE (ImplicitTargetProjection {_implicitTargetProjection_identifier = RegularI \"y\", _implicitTargetProjection_annotation = Just Annotation}))), _metadataExpression_second = Nothing, _metadataExpression_annotation = Just Annotation}))))))))), _letExpression_annotation = Just Annotation}), _sectionMember_annotation = Just Annotation}], _section_annotation = Just Annotation})"
      ]
     },
     "metadata": {},
     "output_type": "display_data"
    }
   ],
   "source": [
    "fromRight (Right x) = x\n",
    "parseDocument . fromRight . lexer $ \"section Bobo1; shared iris = let Source = Csv.Document(File.Contents(\\\"hello world\\\")) in y;\""
   ]
  },
  {
   "cell_type": "code",
   "execution_count": null,
   "metadata": {},
   "outputs": [],
   "source": []
  }
 ],
 "metadata": {
  "kernelspec": {
   "display_name": "Haskell - powerquery-env-ihaskell",
   "language": "haskell",
   "name": "ihaskell_powerquery-env-ihaskell"
  },
  "language_info": {
   "codemirror_mode": "ihaskell",
   "file_extension": ".hs",
   "name": "haskell",
   "pygments_lexer": "Haskell",
   "version": "8.4.4"
  }
 },
 "nbformat": 4,
 "nbformat_minor": 2
}
